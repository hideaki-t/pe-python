{
 "metadata": {
  "name": "pe"
 },
 "nbformat": 3,
 "nbformat_minor": 0,
 "worksheets": [
  {
   "cells": [
    {
     "cell_type": "code",
     "collapsed": false,
     "input": [
      "# problem 1\n",
      "sum(x for x in range(1000) if x % 3 == 0 or x % 5 == 0)"
     ],
     "language": "python",
     "metadata": {},
     "outputs": [
      {
       "output_type": "pyout",
       "prompt_number": 68,
       "text": [
        "233168"
       ]
      }
     ],
     "prompt_number": 68
    },
    {
     "cell_type": "code",
     "collapsed": false,
     "input": [
      "# problem 2\n",
      "def fib_seq():\n",
      "    a, b = 0, 1\n",
      "    while True:\n",
      "        n = a + b\n",
      "        yield n\n",
      "        a, b = b, n\n",
      "def even(seq):\n",
      "    for n in seq:\n",
      "        if n % 2 == 0:\n",
      "            yield n\n",
      "def less_or_eq(n, seq):\n",
      "    for i in seq:\n",
      "        if i > n:\n",
      "            break\n",
      "        yield i\n",
      "sum(less_or_eq(4000000, even(fib_seq())))"
     ],
     "language": "python",
     "metadata": {},
     "outputs": [
      {
       "output_type": "pyout",
       "prompt_number": 71,
       "text": [
        "4613732"
       ]
      }
     ],
     "prompt_number": 71
    },
    {
     "cell_type": "code",
     "collapsed": false,
     "input": [
      "# problem 3\n",
      "import itertools\n",
      "def prime(n, primes):\n",
      "    for p in primes:\n",
      "        if n % p == 0:\n",
      "            return False\n",
      "        if p * p > n:\n",
      "            break\n",
      "    return True\n",
      "\n",
      "def furui(n):\n",
      "    primes = [2]\n",
      "    \n",
      "    for i in itertools.chain([2], range(3, n, 2)):\n",
      "        if prime(i, primes):\n",
      "            primes.append(i)\n",
      "            while n % i == 0:\n",
      "                n //= i\n",
      "                yield i\n",
      "            if i * i > n:\n",
      "                yield n\n",
      "                break\n",
      "n=600851475143\n",
      "print(list(furui(n)))\n",
      "%timeit list(furui(n))"
     ],
     "language": "python",
     "metadata": {},
     "outputs": [
      {
       "output_type": "stream",
       "stream": "stdout",
       "text": [
        "[71, 839, 1471, 6857]\n",
        "1000 loops, best of 3: 1.37 ms per loop"
       ]
      },
      {
       "output_type": "stream",
       "stream": "stdout",
       "text": [
        "\n"
       ]
      }
     ],
     "prompt_number": 2
    },
    {
     "cell_type": "code",
     "collapsed": false,
     "input": [
      "# problem 3(alt.)\n",
      "def primegen():\n",
      "    yield 2\n",
      "    n = 1\n",
      "    while True:\n",
      "        x = 4 * n\n",
      "        yield x - 1\n",
      "        yield x + 1\n",
      "        n += 1\n",
      "\n",
      "def factor(n):\n",
      "    for p in primegen():\n",
      "        while n % p == 0:\n",
      "            n //= p\n",
      "            yield p\n",
      "        if p * p > n:\n",
      "            yield n\n",
      "            break\n",
      "n=600851475143\n",
      "print(list(factor(n)))\n",
      "%timeit list(factor(n))"
     ],
     "language": "python",
     "metadata": {},
     "outputs": [
      {
       "output_type": "stream",
       "stream": "stdout",
       "text": [
        "[71, 839, 1471, 6857]\n",
        "1000 loops, best of 3: 394 us per loop"
       ]
      },
      {
       "output_type": "stream",
       "stream": "stdout",
       "text": [
        "\n"
       ]
      }
     ],
     "prompt_number": 3
    },
    {
     "cell_type": "code",
     "collapsed": false,
     "input": [
      "# problem 4\n",
      "mi = 100\n",
      "mx = 999\n",
      "largest = (0, 0, 0)\n",
      "for i in range(999, mi - 1, -1):\n",
      " for j in range(999, i - 1, -1):\n",
      "  v = i * j\n",
      "  if v > largest[0]:\n",
      "   s = str(v)\n",
      "   if s == s[::-1]:\n",
      "    largest = (v, i, j)\n",
      "  else:\n",
      "    break\n",
      "print(largest)"
     ],
     "language": "python",
     "metadata": {},
     "outputs": [
      {
       "output_type": "stream",
       "stream": "stdout",
       "text": [
        "(906609, 913, 993)\n"
       ]
      }
     ],
     "prompt_number": 5
    },
    {
     "cell_type": "code",
     "collapsed": false,
     "input": [
      "# problem 5\n",
      "N = 20\n",
      "\n",
      "def gcd(n, m):\n",
      "    while True:\n",
      "        r = n % m\n",
      "        if r == 0:\n",
      "            return m\n",
      "        n = m\n",
      "        m = r\n",
      "\n",
      "def lcm(n, m):\n",
      "    return n * m // gcd(n, m)\n",
      "\n",
      "lcmN = 1\n",
      "for n in range(1, N + 1):\n",
      "    lcmN = lcm(lcmN, n)\n",
      "print(lcmN)"
     ],
     "language": "python",
     "metadata": {},
     "outputs": [
      {
       "output_type": "stream",
       "stream": "stdout",
       "text": [
        "232792560\n"
       ]
      }
     ],
     "prompt_number": 54
    },
    {
     "cell_type": "code",
     "collapsed": false,
     "input": [
      "# problem 6\n",
      "N = 100\n",
      "s1 = sum([x**2 for x in range(1, n+1)])\n",
      "s2 = sum([x for x in range(1, n+1)]) ** 2\n",
      "\n",
      "print(s1, s2, s2-s1)"
     ],
     "language": "python",
     "metadata": {},
     "outputs": [
      {
       "output_type": "stream",
       "stream": "stdout",
       "text": [
        "2870 44100 41230\n"
       ]
      }
     ],
     "prompt_number": 56
    },
    {
     "cell_type": "code",
     "collapsed": false,
     "input": [
      "# problem 7\n",
      "from itertools import count\n",
      "from math import sqrt\n",
      "\n",
      "nth = 10001\n",
      "primes = [2]\n",
      "for i in count(3, 2):\n",
      "    lim = int(sqrt(i) + 0.5) \n",
      "    if all(i % p != 0 for p in primes if p <= lim):\n",
      "        primes.append(i)\n",
      "        if len(primes) == nth: break\n",
      "print(primes[-1])\n"
     ],
     "language": "python",
     "metadata": {},
     "outputs": [
      {
       "output_type": "stream",
       "stream": "stdout",
       "text": [
        "104743\n"
       ]
      }
     ],
     "prompt_number": 60
    },
    {
     "cell_type": "code",
     "collapsed": false,
     "input": [
      "v = \"\"\"73167176531330624919225119674426574742355349194934\n",
      "96983520312774506326239578318016984801869478851843\n",
      "85861560789112949495459501737958331952853208805511\n",
      "12540698747158523863050715693290963295227443043557\n",
      "66896648950445244523161731856403098711121722383113\n",
      "62229893423380308135336276614282806444486645238749\n",
      "30358907296290491560440772390713810515859307960866\n",
      "70172427121883998797908792274921901699720888093776\n",
      "65727333001053367881220235421809751254540594752243\n",
      "52584907711670556013604839586446706324415722155397\n",
      "53697817977846174064955149290862569321978468622482\n",
      "83972241375657056057490261407972968652414535100474\n",
      "82166370484403199890008895243450658541227588666881\n",
      "16427171479924442928230863465674813919123162824586\n",
      "17866458359124566529476545682848912883142607690042\n",
      "24219022671055626321111109370544217506941658960408\n",
      "07198403850962455444362981230987879927244284909188\n",
      "84580156166097919133875499200524063689912560717606\n",
      "05886116467109405077541002256983155200055935729725\n",
      "71636269561882670428252483600823257530420752963450\"\"\".replace('\\n', '')\n",
      "ncd = 5\n",
      "\n",
      "from functools import reduce\n",
      "\n",
      "def f(v):\n",
      "    for s in (v[i:i+ncd] for i in range(0, len(v) - ncd + 1)):\n",
      "        yield reduce(lambda x, y: x * y, (int(n) for n in s))\n",
      "print(max(f(v)))\n"
     ],
     "language": "python",
     "metadata": {},
     "outputs": [
      {
       "output_type": "stream",
       "stream": "stdout",
       "text": [
        "40824\n"
       ]
      }
     ],
     "prompt_number": 58
    },
    {
     "cell_type": "code",
     "collapsed": false,
     "input": [
      "N = 1000\n",
      "def tripletN(N):\n",
      "    for a in range(1, N // 3):\n",
      "        for b in range(a + 1, (N-a+1)//2):\n",
      "            c = N - a - b\n",
      "            yield a,b,c\n",
      "for a,b,c in tripletN(N):\n",
      "    if a*a + b*b == c*c:\n",
      "        print((a,b,c), sum((a,b,c)), a*b*c)\n",
      "\n"
     ],
     "language": "python",
     "metadata": {},
     "outputs": [
      {
       "output_type": "stream",
       "stream": "stdout",
       "text": [
        "(200, 375, 425) 1000 31875000\n"
       ]
      }
     ],
     "prompt_number": 59
    },
    {
     "cell_type": "code",
     "collapsed": false,
     "input": [
      "from math import sqrt\n",
      "from itertools import count,takewhile\n",
      "try:\n",
      "    from itertools import ifilter\n",
      "except:\n",
      "    ifilter = filter\n",
      "\n",
      "def primegen():\n",
      "    primes = [2]\n",
      "    yield 2\n",
      "    for i in count(3, 2):\n",
      "        lim = int(sqrt(i) + 0.5) \n",
      "        if all(i % p != 0 for p in primes if p <= lim):\n",
      "            primes.append(i)\n",
      "            yield i\n",
      "\n",
      "def primegen2():\n",
      "    g = count(2)\n",
      "    while True:\n",
      "        prime = next(g)\n",
      "        yield prime\n",
      "        g = ifilter(lambda x, prime=prime: x%prime, g)\n",
      "       \n",
      "\n",
      "L = lambda x: x < 2000000\n",
      "print(sum(takewhile(L, primegen())))\n",
      "#print(sum(takewhile(L, primegen2())))"
     ],
     "language": "python",
     "metadata": {},
     "outputs": [
      {
       "output_type": "stream",
       "stream": "stdout",
       "text": [
        "142913828922\n"
       ]
      }
     ],
     "prompt_number": 2
    },
    {
     "cell_type": "code",
     "collapsed": false,
     "input": [
      "sgrid = \"\"\"\n",
      "08 02 22 97 38 15 00 40 00 75 04 05 07 78 52 12 50 77 91 08\n",
      "49 49 99 40 17 81 18 57 60 87 17 40 98 43 69 48 04 56 62 00\n",
      "81 49 31 73 55 79 14 29 93 71 40 67 53 88 30 03 49 13 36 65\n",
      "52 70 95 23 04 60 11 42 69 24 68 56 01 32 56 71 37 02 36 91\n",
      "22 31 16 71 51 67 63 89 41 92 36 54 22 40 40 28 66 33 13 80\n",
      "24 47 32 60 99 03 45 02 44 75 33 53 78 36 84 20 35 17 12 50\n",
      "32 98 81 28 64 23 67 10 26 38 40 67 59 54 70 66 18 38 64 70\n",
      "67 26 20 68 02 62 12 20 95 63 94 39 63 08 40 91 66 49 94 21\n",
      "24 55 58 05 66 73 99 26 97 17 78 78 96 83 14 88 34 89 63 72\n",
      "21 36 23 09 75 00 76 44 20 45 35 14 00 61 33 97 34 31 33 95\n",
      "78 17 53 28 22 75 31 67 15 94 03 80 04 62 16 14 09 53 56 92\n",
      "16 39 05 42 96 35 31 47 55 58 88 24 00 17 54 24 36 29 85 57\n",
      "86 56 00 48 35 71 89 07 05 44 44 37 44 60 21 58 51 54 17 58\n",
      "19 80 81 68 05 94 47 69 28 73 92 13 86 52 17 77 04 89 55 40\n",
      "04 52 08 83 97 35 99 16 07 97 57 32 16 26 26 79 33 27 98 66\n",
      "88 36 68 87 57 62 20 72 03 46 33 67 46 55 12 32 63 93 53 69\n",
      "04 42 16 73 38 25 39 11 24 94 72 18 08 46 29 32 40 62 76 36\n",
      "20 69 36 41 72 30 23 88 34 62 99 69 82 67 59 85 74 04 36 16\n",
      "20 73 35 29 78 31 90 01 74 31 49 71 48 86 81 16 23 57 05 54\n",
      "01 70 54 71 83 51 54 69 16 92 33 48 61 43 52 01 89 19 67 48\n",
      "\"\"\"\n",
      "\n",
      "grid = []\n",
      "for l in sgrid.split('\\n'):\n",
      "    if not l:\n",
      "        continue \n",
      "    grid.append([])\n",
      "    row = grid[-1]\n",
      "    for c in l.split(' '):\n",
      "       row.append(int(c))\n",
      "\n",
      "import functools\n",
      "import operator\n",
      "def prod(it):\n",
      "    return functools.reduce(operator.mul, it)\n",
      "\n",
      "def f(grid, rows, cols, numbers):\n",
      "    for r in range(0, rows):\n",
      "        for c in range(0, cols):\n",
      "            if c < cols - numbers:\n",
      "                yield prod(grid[r][c:c+numbers]), 'H', r, c\n",
      "            if r < rows - numbers:\n",
      "                yield prod(grid[x][c] for x in range(r, r + numbers)), 'V', r, c\n",
      "            if c < cols - numbers and r < rows - numbers:\n",
      "                yield prod(grid[r+x][c+x]\n",
      "                         for x in range(0, numbers)), 'DU', r, c\n",
      "            if c > numbers and r < rows - numbers:\n",
      "                yield prod(grid[r+x][c-x]\n",
      "                         for x in range(0, numbers)), 'DD', r, c\n",
      "\n",
      "print(max(f(grid, len(grid), len(grid[0]), 4)))"
     ],
     "language": "python",
     "metadata": {},
     "outputs": [
      {
       "output_type": "stream",
       "stream": "stdout",
       "text": [
        "(70600674, 'DD', 12, 6)\n"
       ]
      }
     ],
     "prompt_number": 3
    },
    {
     "cell_type": "code",
     "collapsed": false,
     "input": [],
     "language": "python",
     "metadata": {},
     "outputs": []
    }
   ],
   "metadata": {}
  }
 ]
}