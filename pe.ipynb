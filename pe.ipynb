{
 "metadata": {
  "name": "pe"
 },
 "nbformat": 3,
 "nbformat_minor": 0,
 "worksheets": [
  {
   "cells": [
    {
     "cell_type": "code",
     "collapsed": false,
     "input": [
      "# problem 1\n",
      "sum(x for x in range(1000) if x % 3 == 0 or x % 5 == 0)"
     ],
     "language": "python",
     "metadata": {},
     "outputs": [
      {
       "output_type": "pyout",
       "prompt_number": 68,
       "text": [
        "233168"
       ]
      }
     ],
     "prompt_number": 68
    },
    {
     "cell_type": "code",
     "collapsed": false,
     "input": [
      "# problem 2\n",
      "def fib_seq():\n",
      "    a, b = 0, 1\n",
      "    while True:\n",
      "        n = a + b\n",
      "        yield n\n",
      "        a, b = b, n\n",
      "def even(seq):\n",
      "    for n in seq:\n",
      "        if n % 2 == 0:\n",
      "            yield n\n",
      "def less_or_eq(n, seq):\n",
      "    for i in seq:\n",
      "        if i > n:\n",
      "            break\n",
      "        yield i\n",
      "sum(less_or_eq(4000000, even(fib_seq())))"
     ],
     "language": "python",
     "metadata": {},
     "outputs": [
      {
       "output_type": "pyout",
       "prompt_number": 71,
       "text": [
        "4613732"
       ]
      }
     ],
     "prompt_number": 71
    },
    {
     "cell_type": "code",
     "collapsed": false,
     "input": [
      "# problem 3\n",
      "import itertools\n",
      "def prime(n, primes):\n",
      "    for p in primes:\n",
      "        if n % p == 0:\n",
      "            return False\n",
      "        if p * p > n:\n",
      "            break\n",
      "    return True\n",
      "\n",
      "def furui(n):\n",
      "    primes = [2]\n",
      "    \n",
      "    for i in itertools.chain([2], range(3, n, 2)):\n",
      "        if prime(i, primes):\n",
      "            primes.append(i)\n",
      "            while n % i == 0:\n",
      "                n //= i\n",
      "                yield i\n",
      "            if i * i > n:\n",
      "                yield n\n",
      "                break\n",
      "n=600851475143\n",
      "print(list(furui(n)))\n",
      "%timeit list(furui(n))"
     ],
     "language": "python",
     "metadata": {},
     "outputs": [
      {
       "output_type": "stream",
       "stream": "stdout",
       "text": [
        "[71, 839, 1471, 6857]\n",
        "1000 loops, best of 3: 1.37 ms per loop"
       ]
      },
      {
       "output_type": "stream",
       "stream": "stdout",
       "text": [
        "\n"
       ]
      }
     ],
     "prompt_number": 2
    },
    {
     "cell_type": "code",
     "collapsed": false,
     "input": [
      "# problem 3(alt.)\n",
      "def primegen():\n",
      "    yield 2\n",
      "    n = 1\n",
      "    while True:\n",
      "        x = 4 * n\n",
      "        yield x - 1\n",
      "        yield x + 1\n",
      "        n += 1\n",
      "\n",
      "def factor(n):\n",
      "    for p in primegen():\n",
      "        while n % p == 0:\n",
      "            n //= p\n",
      "            yield p\n",
      "        if p * p > n:\n",
      "            yield n\n",
      "            break\n",
      "n=600851475143\n",
      "print(list(factor(n)))\n",
      "%timeit list(factor(n))"
     ],
     "language": "python",
     "metadata": {},
     "outputs": [
      {
       "output_type": "stream",
       "stream": "stdout",
       "text": [
        "[71, 839, 1471, 6857]\n",
        "1000 loops, best of 3: 394 us per loop"
       ]
      },
      {
       "output_type": "stream",
       "stream": "stdout",
       "text": [
        "\n"
       ]
      }
     ],
     "prompt_number": 3
    },
    {
     "cell_type": "code",
     "collapsed": false,
     "input": [
      "# problem 4\n",
      "mi = 100\n",
      "mx = 999\n",
      "largest = (0, 0, 0)\n",
      "for i in range(999, mi - 1, -1):\n",
      " for j in range(999, i - 1, -1):\n",
      "  v = i * j\n",
      "  if v > largest[0]:\n",
      "   s = str(v)\n",
      "   if s == s[::-1]:\n",
      "    largest = (v, i, j)\n",
      "  else:\n",
      "    break\n",
      "print(largest)"
     ],
     "language": "python",
     "metadata": {},
     "outputs": [
      {
       "output_type": "stream",
       "stream": "stdout",
       "text": [
        "(906609, 913, 993)\n"
       ]
      }
     ],
     "prompt_number": 5
    },
    {
     "cell_type": "code",
     "collapsed": false,
     "input": [
      "# problem 5\n",
      "N = 20\n",
      "\n",
      "def gcd(n, m):\n",
      "    while True:\n",
      "        r = n % m\n",
      "        if r == 0:\n",
      "            return m\n",
      "        n = m\n",
      "        m = r\n",
      "\n",
      "def lcm(n, m):\n",
      "    return n * m // gcd(n, m)\n",
      "\n",
      "lcmN = 1\n",
      "for n in range(1, N + 1):\n",
      "    lcmN = lcm(lcmN, n)\n",
      "print(lcmN)"
     ],
     "language": "python",
     "metadata": {},
     "outputs": [
      {
       "output_type": "stream",
       "stream": "stdout",
       "text": [
        "232792560\n"
       ]
      }
     ],
     "prompt_number": 54
    },
    {
     "cell_type": "code",
     "collapsed": false,
     "input": [
      "# problem 6\n",
      "N = 100\n",
      "s1 = sum([x**2 for x in range(1, n+1)])\n",
      "s2 = sum([x for x in range(1, n+1)]) ** 2\n",
      "\n",
      "print(s1, s2, s2-s1)"
     ],
     "language": "python",
     "metadata": {},
     "outputs": [
      {
       "output_type": "stream",
       "stream": "stdout",
       "text": [
        "2870 44100 41230\n"
       ]
      }
     ],
     "prompt_number": 56
    },
    {
     "cell_type": "code",
     "collapsed": false,
     "input": [
      "# problem 7\n",
      "from itertools import count\n",
      "from math import sqrt\n",
      "\n",
      "nth = 10001\n",
      "primes = [2]\n",
      "for i in count(3, 2):\n",
      "    lim = int(sqrt(i) + 0.5) \n",
      "    if all(i % p != 0 for p in primes if p <= lim):\n",
      "        primes.append(i)\n",
      "        if len(primes) == nth: break\n",
      "print(primes[-1])\n"
     ],
     "language": "python",
     "metadata": {},
     "outputs": [
      {
       "output_type": "stream",
       "stream": "stdout",
       "text": [
        "104743\n"
       ]
      }
     ],
     "prompt_number": 60
    },
    {
     "cell_type": "code",
     "collapsed": false,
     "input": [
      "# problem 8\n",
      "v = \"\"\"73167176531330624919225119674426574742355349194934\n",
      "96983520312774506326239578318016984801869478851843\n",
      "85861560789112949495459501737958331952853208805511\n",
      "12540698747158523863050715693290963295227443043557\n",
      "66896648950445244523161731856403098711121722383113\n",
      "62229893423380308135336276614282806444486645238749\n",
      "30358907296290491560440772390713810515859307960866\n",
      "70172427121883998797908792274921901699720888093776\n",
      "65727333001053367881220235421809751254540594752243\n",
      "52584907711670556013604839586446706324415722155397\n",
      "53697817977846174064955149290862569321978468622482\n",
      "83972241375657056057490261407972968652414535100474\n",
      "82166370484403199890008895243450658541227588666881\n",
      "16427171479924442928230863465674813919123162824586\n",
      "17866458359124566529476545682848912883142607690042\n",
      "24219022671055626321111109370544217506941658960408\n",
      "07198403850962455444362981230987879927244284909188\n",
      "84580156166097919133875499200524063689912560717606\n",
      "05886116467109405077541002256983155200055935729725\n",
      "71636269561882670428252483600823257530420752963450\"\"\".replace('\\n', '')\n",
      "ncd = 5\n",
      "\n",
      "from functools import reduce\n",
      "\n",
      "def f(v):\n",
      "    for s in (v[i:i+ncd] for i in range(0, len(v) - ncd + 1)):\n",
      "        yield reduce(lambda x, y: x * y, (int(n) for n in s))\n",
      "print(max(f(v)))\n"
     ],
     "language": "python",
     "metadata": {},
     "outputs": [
      {
       "output_type": "stream",
       "stream": "stdout",
       "text": [
        "40824\n"
       ]
      }
     ],
     "prompt_number": 58
    },
    {
     "cell_type": "code",
     "collapsed": false,
     "input": [
      "# problem 9\n",
      "N = 1000\n",
      "def tripletN(N):\n",
      "    for a in range(1, N // 3):\n",
      "        for b in range(a + 1, (N-a+1)//2):\n",
      "            c = N - a - b\n",
      "            yield a,b,c\n",
      "for a,b,c in tripletN(N):\n",
      "    if a*a + b*b == c*c:\n",
      "        print((a,b,c), sum((a,b,c)), a*b*c)\n",
      "\n"
     ],
     "language": "python",
     "metadata": {},
     "outputs": [
      {
       "output_type": "stream",
       "stream": "stdout",
       "text": [
        "(200, 375, 425) 1000 31875000\n"
       ]
      }
     ],
     "prompt_number": 59
    },
    {
     "cell_type": "code",
     "collapsed": false,
     "input": [
      "# problem 10(1)\n",
      "from math import sqrt\n",
      "from itertools import count,takewhile\n",
      "try:\n",
      "    from itertools import ifilter\n",
      "except:\n",
      "    ifilter = filter\n",
      "\n",
      "def primegen():\n",
      "    primes = [2]\n",
      "    yield 2\n",
      "    for i in count(3, 2):\n",
      "        lim = int(sqrt(i) + 0.5) \n",
      "        if all(i % p != 0 for p in primes if p <= lim):\n",
      "            primes.append(i)\n",
      "            yield i\n",
      "\n",
      "def primegen2():\n",
      "    g = count(2)\n",
      "    while True:\n",
      "        prime = next(g)\n",
      "        yield prime\n",
      "        g = ifilter(lambda x, prime=prime: x%prime, g)\n",
      "       \n",
      "\n",
      "L = lambda x: x < 2000000\n",
      "print(sum(takewhile(L, primegen())))\n",
      "#print(sum(takewhile(L, primegen2())))"
     ],
     "language": "python",
     "metadata": {},
     "outputs": [
      {
       "output_type": "stream",
       "stream": "stdout",
       "text": [
        "142913828922\n"
       ]
      }
     ],
     "prompt_number": 2
    },
    {
     "cell_type": "code",
     "collapsed": false,
     "input": [
      "# problem 10(2)\n",
      "N = 2000000\n",
      "from math import sqrt\n",
      "\n",
      "def make_sieve(n):\n",
      "    sieve = [True]*n\n",
      "    for i in range(2, int(sqrt(n))+1):\n",
      "        if sieve[i]:\n",
      "            for i in range(i + i, n, i):\n",
      "                sieve[i] = False\n",
      "    return sieve\n",
      "\n",
      "sieve = make_sieve(N)\n",
      "print(sum(i for i in range(2, N) if sieve[i]))"
     ],
     "language": "python",
     "metadata": {},
     "outputs": [
      {
       "output_type": "stream",
       "stream": "stdout",
       "text": [
        "142913828922\n"
       ]
      }
     ],
     "prompt_number": 13
    },
    {
     "cell_type": "code",
     "collapsed": false,
     "input": [
      "# problem 11\n",
      "sgrid = \"\"\"\n",
      "08 02 22 97 38 15 00 40 00 75 04 05 07 78 52 12 50 77 91 08\n",
      "49 49 99 40 17 81 18 57 60 87 17 40 98 43 69 48 04 56 62 00\n",
      "81 49 31 73 55 79 14 29 93 71 40 67 53 88 30 03 49 13 36 65\n",
      "52 70 95 23 04 60 11 42 69 24 68 56 01 32 56 71 37 02 36 91\n",
      "22 31 16 71 51 67 63 89 41 92 36 54 22 40 40 28 66 33 13 80\n",
      "24 47 32 60 99 03 45 02 44 75 33 53 78 36 84 20 35 17 12 50\n",
      "32 98 81 28 64 23 67 10 26 38 40 67 59 54 70 66 18 38 64 70\n",
      "67 26 20 68 02 62 12 20 95 63 94 39 63 08 40 91 66 49 94 21\n",
      "24 55 58 05 66 73 99 26 97 17 78 78 96 83 14 88 34 89 63 72\n",
      "21 36 23 09 75 00 76 44 20 45 35 14 00 61 33 97 34 31 33 95\n",
      "78 17 53 28 22 75 31 67 15 94 03 80 04 62 16 14 09 53 56 92\n",
      "16 39 05 42 96 35 31 47 55 58 88 24 00 17 54 24 36 29 85 57\n",
      "86 56 00 48 35 71 89 07 05 44 44 37 44 60 21 58 51 54 17 58\n",
      "19 80 81 68 05 94 47 69 28 73 92 13 86 52 17 77 04 89 55 40\n",
      "04 52 08 83 97 35 99 16 07 97 57 32 16 26 26 79 33 27 98 66\n",
      "88 36 68 87 57 62 20 72 03 46 33 67 46 55 12 32 63 93 53 69\n",
      "04 42 16 73 38 25 39 11 24 94 72 18 08 46 29 32 40 62 76 36\n",
      "20 69 36 41 72 30 23 88 34 62 99 69 82 67 59 85 74 04 36 16\n",
      "20 73 35 29 78 31 90 01 74 31 49 71 48 86 81 16 23 57 05 54\n",
      "01 70 54 71 83 51 54 69 16 92 33 48 61 43 52 01 89 19 67 48\n",
      "\"\"\"\n",
      "\n",
      "grid = []\n",
      "for l in sgrid.split('\\n'):\n",
      "    if not l:\n",
      "        continue \n",
      "    grid.append([])\n",
      "    row = grid[-1]\n",
      "    for c in l.split(' '):\n",
      "       row.append(int(c))\n",
      "\n",
      "import functools\n",
      "import operator\n",
      "def prod(it):\n",
      "    return functools.reduce(operator.mul, it)\n",
      "\n",
      "def f(grid, rows, cols, numbers):\n",
      "    for r in range(0, rows):\n",
      "        for c in range(0, cols):\n",
      "            if c < cols - numbers:\n",
      "                yield prod(grid[r][c:c+numbers]), 'H', r, c\n",
      "            if r < rows - numbers:\n",
      "                yield prod(grid[x][c] for x in range(r, r + numbers)), 'V', r, c\n",
      "            if c < cols - numbers and r < rows - numbers:\n",
      "                yield prod(grid[r+x][c+x]\n",
      "                         for x in range(0, numbers)), 'DU', r, c\n",
      "            if c > numbers and r < rows - numbers:\n",
      "                yield prod(grid[r+x][c-x]\n",
      "                         for x in range(0, numbers)), 'DD', r, c\n",
      "\n",
      "print(max(f(grid, len(grid), len(grid[0]), 4)))"
     ],
     "language": "python",
     "metadata": {},
     "outputs": [
      {
       "output_type": "stream",
       "stream": "stdout",
       "text": [
        "(70600674, 'DD', 12, 6)\n"
       ]
      }
     ],
     "prompt_number": 3
    },
    {
     "cell_type": "code",
     "collapsed": false,
     "input": [
      "# problem 12(brute force)\n",
      "import itertools\n",
      "from math import sqrt\n",
      "\n",
      "def trianglenumber():\n",
      "    c = itertools.count(1)\n",
      "    s = 0\n",
      "    for n in c:\n",
      "        s += n\n",
      "        yield s\n",
      "\n",
      "def divisors(n):\n",
      "    lim = int(sqrt(n))\n",
      "    for i in (i for i in range(1, lim + 1) if n % i == 0):\n",
      "        if i != lim:\n",
      "            yield n//i\n",
      "        yield i\n",
      "\n",
      "for t, d in ((t, len(list(divisors(t)))) for t in trianglenumber()):\n",
      "    if d > 500:\n",
      "        break"
     ],
     "language": "python",
     "metadata": {},
     "outputs": [],
     "prompt_number": 10
    },
    {
     "cell_type": "code",
     "collapsed": false,
     "input": [
      "# problem 12(alt)\n",
      "import itertools\n",
      "from math import sqrt\n",
      "\n",
      "def ndivisors(n):\n",
      "    lim = int(sqrt(n))\n",
      "    cnt = 0\n",
      "    for i in (i for i in range(1, lim + 1) if n % i == 0):\n",
      "        if i != lim:\n",
      "            cnt += 1\n",
      "        cnt += 1\n",
      "    return cnt\n",
      "\n",
      "def divisors_of_tri(n):\n",
      "    # n * (n+1) never have any common divisor\n",
      "    # (n * (n+1))/2 => n/2 * (n+1) or n * (n+1)/2\n",
      "    if n % 2 == 0:\n",
      "        return ndivisors(n/2) * ndivisors(n+1)\n",
      "    else:\n",
      "        return ndivisors(n) * ndivisors((n+1)//2)\n",
      "\n",
      "ith, d = next(itertools.dropwhile(lambda x: x[1] < 500, ((i, divisors_of_tri(i)) for i in itertools.count(1))))\n",
      "print(ith * (ith + 1)//2, d)"
     ],
     "language": "python",
     "metadata": {},
     "outputs": [
      {
       "output_type": "stream",
       "stream": "stdout",
       "text": [
        "76576500 576\n"
       ]
      }
     ],
     "prompt_number": 9
    },
    {
     "cell_type": "code",
     "collapsed": false,
     "input": [
      "# problem 13\n",
      "v = \"\"\"37107287533902102798797998220837590246510135740250\n",
      "46376937677490009712648124896970078050417018260538\n",
      "74324986199524741059474233309513058123726617309629\n",
      "91942213363574161572522430563301811072406154908250\n",
      "23067588207539346171171980310421047513778063246676\n",
      "89261670696623633820136378418383684178734361726757\n",
      "28112879812849979408065481931592621691275889832738\n",
      "44274228917432520321923589422876796487670272189318\n",
      "47451445736001306439091167216856844588711603153276\n",
      "70386486105843025439939619828917593665686757934951\n",
      "62176457141856560629502157223196586755079324193331\n",
      "64906352462741904929101432445813822663347944758178\n",
      "92575867718337217661963751590579239728245598838407\n",
      "58203565325359399008402633568948830189458628227828\n",
      "80181199384826282014278194139940567587151170094390\n",
      "35398664372827112653829987240784473053190104293586\n",
      "86515506006295864861532075273371959191420517255829\n",
      "71693888707715466499115593487603532921714970056938\n",
      "54370070576826684624621495650076471787294438377604\n",
      "53282654108756828443191190634694037855217779295145\n",
      "36123272525000296071075082563815656710885258350721\n",
      "45876576172410976447339110607218265236877223636045\n",
      "17423706905851860660448207621209813287860733969412\n",
      "81142660418086830619328460811191061556940512689692\n",
      "51934325451728388641918047049293215058642563049483\n",
      "62467221648435076201727918039944693004732956340691\n",
      "15732444386908125794514089057706229429197107928209\n",
      "55037687525678773091862540744969844508330393682126\n",
      "18336384825330154686196124348767681297534375946515\n",
      "80386287592878490201521685554828717201219257766954\n",
      "78182833757993103614740356856449095527097864797581\n",
      "16726320100436897842553539920931837441497806860984\n",
      "48403098129077791799088218795327364475675590848030\n",
      "87086987551392711854517078544161852424320693150332\n",
      "59959406895756536782107074926966537676326235447210\n",
      "69793950679652694742597709739166693763042633987085\n",
      "41052684708299085211399427365734116182760315001271\n",
      "65378607361501080857009149939512557028198746004375\n",
      "35829035317434717326932123578154982629742552737307\n",
      "94953759765105305946966067683156574377167401875275\n",
      "88902802571733229619176668713819931811048770190271\n",
      "25267680276078003013678680992525463401061632866526\n",
      "36270218540497705585629946580636237993140746255962\n",
      "24074486908231174977792365466257246923322810917141\n",
      "91430288197103288597806669760892938638285025333403\n",
      "34413065578016127815921815005561868836468420090470\n",
      "23053081172816430487623791969842487255036638784583\n",
      "11487696932154902810424020138335124462181441773470\n",
      "63783299490636259666498587618221225225512486764533\n",
      "67720186971698544312419572409913959008952310058822\n",
      "95548255300263520781532296796249481641953868218774\n",
      "76085327132285723110424803456124867697064507995236\n",
      "37774242535411291684276865538926205024910326572967\n",
      "23701913275725675285653248258265463092207058596522\n",
      "29798860272258331913126375147341994889534765745501\n",
      "18495701454879288984856827726077713721403798879715\n",
      "38298203783031473527721580348144513491373226651381\n",
      "34829543829199918180278916522431027392251122869539\n",
      "40957953066405232632538044100059654939159879593635\n",
      "29746152185502371307642255121183693803580388584903\n",
      "41698116222072977186158236678424689157993532961922\n",
      "62467957194401269043877107275048102390895523597457\n",
      "23189706772547915061505504953922979530901129967519\n",
      "86188088225875314529584099251203829009407770775672\n",
      "11306739708304724483816533873502340845647058077308\n",
      "82959174767140363198008187129011875491310547126581\n",
      "97623331044818386269515456334926366572897563400500\n",
      "42846280183517070527831839425882145521227251250327\n",
      "55121603546981200581762165212827652751691296897789\n",
      "32238195734329339946437501907836945765883352399886\n",
      "75506164965184775180738168837861091527357929701337\n",
      "62177842752192623401942399639168044983993173312731\n",
      "32924185707147349566916674687634660915035914677504\n",
      "99518671430235219628894890102423325116913619626622\n",
      "73267460800591547471830798392868535206946944540724\n",
      "76841822524674417161514036427982273348055556214818\n",
      "97142617910342598647204516893989422179826088076852\n",
      "87783646182799346313767754307809363333018982642090\n",
      "10848802521674670883215120185883543223812876952786\n",
      "71329612474782464538636993009049310363619763878039\n",
      "62184073572399794223406235393808339651327408011116\n",
      "66627891981488087797941876876144230030984490851411\n",
      "60661826293682836764744779239180335110989069790714\n",
      "85786944089552990653640447425576083659976645795096\n",
      "66024396409905389607120198219976047599490197230297\n",
      "64913982680032973156037120041377903785566085089252\n",
      "16730939319872750275468906903707539413042652315011\n",
      "94809377245048795150954100921645863754710598436791\n",
      "78639167021187492431995700641917969777599028300699\n",
      "15368713711936614952811305876380278410754449733078\n",
      "40789923115535562561142322423255033685442488917353\n",
      "44889911501440648020369068063960672322193204149535\n",
      "41503128880339536053299340368006977710650566631954\n",
      "81234880673210146739058568557934581403627822703280\n",
      "82616570773948327592232845941706525094512325230608\n",
      "22918802058777319719839450180888072429661980811197\n",
      "77158542502016545090413245809786882778948721859617\n",
      "72107838435069186155435662884062257473692284509516\n",
      "20849603980134001723930671666823555245252804609722\n",
      "53503534226472524250874054075591789781264330331690\"\"\"\n",
      "\n",
      "print(str(sum(int(x) for x in v.splitlines()))[:10])"
     ],
     "language": "python",
     "metadata": {},
     "outputs": [
      {
       "output_type": "stream",
       "stream": "stdout",
       "text": [
        "5537376230\n"
       ]
      }
     ],
     "prompt_number": 12
    },
    {
     "cell_type": "code",
     "collapsed": false,
     "input": [],
     "language": "python",
     "metadata": {},
     "outputs": []
    }
   ],
   "metadata": {}
  }
 ]
}